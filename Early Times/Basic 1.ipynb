{
 "cells": [
  {
   "cell_type": "code",
   "execution_count": null,
   "id": "ef8ab14f",
   "metadata": {},
   "outputs": [],
   "source": [
    "print(\"Enter dist in km: \")\n",
    "a = float(input())\n",
    "mile = a/1.609\n",
    "print(mile)"
   ]
  },
  {
   "cell_type": "code",
   "execution_count": null,
   "id": "20286df5",
   "metadata": {
    "scrolled": true
   },
   "outputs": [],
   "source": [
    "a= int(input(\"Enter a no.\"))\n",
    "if a%2==0:\n",
    "    print(\"Even\")\n",
    "elif a==1:\n",
    "    print(\"Neither\")\n",
    "else:\n",
    "    print(\"Odd\")\n",
    "    "
   ]
  },
  {
   "cell_type": "code",
   "execution_count": null,
   "id": "c6eb6920",
   "metadata": {
    "scrolled": false
   },
   "outputs": [],
   "source": [
    "k= int(input(\"Enter a no.: \"))\n",
    "flag=0\n",
    "for i in range(2,k//2):\n",
    "    if k%i==0:\n",
    "        flag+=1\n",
    "        if flag==0:\n",
    "            print(\"Prime\")\n",
    "            exit()\n",
    "if flag==0:\n",
    "    print(\"Composite\")\n",
    "\n",
    "       "
   ]
  },
  {
   "cell_type": "code",
   "execution_count": null,
   "id": "f0f9c53d",
   "metadata": {},
   "outputs": [],
   "source": [
    "n=int(input(\"No.of terms: \"))\n",
    "f1=0\n",
    "f2=1\n",
    "print(f1,\"\\n\",f2)\n",
    "\n",
    "for i in range(0,n-2):\n",
    "     f3=f2+f1\n",
    "     f1=f2\n",
    "     f2=f3 \n",
    "     print(f3)"
   ]
  },
  {
   "cell_type": "code",
   "execution_count": null,
   "id": "410e8431",
   "metadata": {},
   "outputs": [],
   "source": [
    "arm=int(input(\"Enter a no.\"))\n",
    "sum=0\n",
    "k=arm\n",
    "while(arm//10!=0):\n",
    "    temp=arm % 10\n",
    "    sum=sum+(temp**3)\n",
    "    arm=arm//10\n",
    "if(sum==k):\n",
    "    print(\"Armstrong\")\n",
    "else:\n",
    "    print(\"Not Armstrong\")\n",
    "    \n",
    "    \n",
    "    "
   ]
  },
  {
   "cell_type": "code",
   "execution_count": null,
   "id": "359b1e1a",
   "metadata": {},
   "outputs": [],
   "source": [
    "arm=int(input(\"Enter a no.\"))\n",
    "sum=0\n",
    "k=arm\n",
    "while(arm//10!=0):\n",
    "    temp=arm % 10\n",
    "    sum=sum+(temp**3)\n",
    "    arm=arm//10\n",
    "if(sum==k):\n",
    "    print(\"Armstrong\")\n",
    "else:\n",
    "    print(\"Not Armstrong\")\n",
    "    \n",
    "    "
   ]
  },
  {
   "cell_type": "code",
   "execution_count": 1,
   "id": "35af32c4",
   "metadata": {},
   "outputs": [
    {
     "name": "stdout",
     "output_type": "stream",
     "text": [
      "False\n"
     ]
    }
   ],
   "source": [
    "x=(1.1+2.2)==3.3\n",
    "print(x)"
   ]
  },
  {
   "cell_type": "code",
   "execution_count": null,
   "id": "9bed7d0f",
   "metadata": {},
   "outputs": [],
   "source": []
  }
 ],
 "metadata": {
  "kernelspec": {
   "display_name": "Python 3",
   "language": "python",
   "name": "python3"
  },
  "language_info": {
   "codemirror_mode": {
    "name": "ipython",
    "version": 3
   },
   "file_extension": ".py",
   "mimetype": "text/x-python",
   "name": "python",
   "nbconvert_exporter": "python",
   "pygments_lexer": "ipython3",
   "version": "3.8.8"
  }
 },
 "nbformat": 4,
 "nbformat_minor": 5
}
