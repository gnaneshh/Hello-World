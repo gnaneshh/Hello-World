{
 "cells": [
  {
   "cell_type": "code",
   "execution_count": 9,
   "id": "a80bbf82",
   "metadata": {},
   "outputs": [],
   "source": [
    "class Recipe:\n",
    "    def __init__(self,rID,rname,rtype,ing,approxcal):\n",
    "        self.rID=rID\n",
    "        self.rname=rname\n",
    "        self.ing=ing\n",
    "        self.rtype=rtype\n",
    "        self.appcal=approxcal"
   ]
  },
  {
   "cell_type": "code",
   "execution_count": 16,
   "id": "5e8f4f27",
   "metadata": {},
   "outputs": [],
   "source": [
    "class MyKitchen:\n",
    "    def __init__(self,rlist,klist):\n",
    "        self.rlist=rlist\n",
    "        self.klist=klist\n",
    "        \n",
    "    def getAvailableRecipeCount(self,string):\n",
    "        tot=0\n",
    "        for i in self.rlist:\n",
    "            count=0\n",
    "            if i.rtype==string:\n",
    "                for ingr in i.ing:\n",
    "                    if ingr in self.klist:\n",
    "                        count+=1\n",
    "                if count>=3:\n",
    "                    tot+=1\n",
    "        if tot==0:\n",
    "            return None\n",
    "        return tot\n",
    "                        \n",
    "                \n",
    "        \n",
    "        \n",
    "        \n",
    "        \n",
    "    def getTwoRecipeWithLeastCalories(self):\n",
    "        lst=[]\n",
    "        self.rlist.sort(key=lambda x: x.appcal)\n",
    "        for i in range(2):\n",
    "            lst.append(self.rlist[i])\n",
    "        return lst\n",
    "            \n",
    "        \n",
    "            \n",
    "        "
   ]
  },
  {
   "cell_type": "code",
   "execution_count": 17,
   "id": "f70fdb37",
   "metadata": {},
   "outputs": [
    {
     "name": "stdout",
     "output_type": "stream",
     "text": [
      "Enter no of objects: 3\n",
      "101\n",
      "rec1\n",
      "vegan\n",
      "wf\n",
      "bs\n",
      "cf\n",
      "45.36\n",
      "102\n",
      "rec2\n",
      "vegan\n",
      "cf\n",
      "rf\n",
      "bu\n",
      "58.1\n",
      "103\n",
      "rec3\n",
      "veg\n",
      "cf\n",
      "rf\n",
      "oil\n",
      "26.36\n",
      "No of available kitchen ingredients: 5\n",
      "wf\n",
      "bs\n",
      "cf\n",
      "rf\n",
      "bu\n",
      "Enter recipe type: vegan\n",
      "2\n",
      "103 rec3 veg 26.36\n",
      "101 rec1 vegan 45.36\n"
     ]
    }
   ],
   "source": [
    "if __name__==\"__main__\":\n",
    "    n=int(input(\"Enter no of objects: \"))\n",
    "    lst=[]\n",
    "    l=[]\n",
    "    klist=[]\n",
    "    for i in range(n):\n",
    "        a=int(input())\n",
    "        b=input()\n",
    "        d=input()\n",
    "        for iing in range(3):\n",
    "            k=input()\n",
    "            l.append(k)\n",
    "        e=float(input())\n",
    "        obj=Recipe(a,b,d,l,e)\n",
    "        lst.append(obj)\n",
    "        \n",
    "    n1=int(input(\"No of available kitchen ingredients: \"))\n",
    "    for i in range(n1):\n",
    "        st=input()\n",
    "        klist.append(st)\n",
    "    vbj=MyKitchen(lst,klist)\n",
    "    recipetype=input(\"Enter recipe type: \")\n",
    "    ans=vbj.getAvailableRecipeCount(recipetype)\n",
    "    ans1=vbj.getTwoRecipeWithLeastCalories()\n",
    "    if ans==None:\n",
    "        print(\"Major ing not found\")\n",
    "    else:\n",
    "        print(ans)\n",
    "    for j in ans1:\n",
    "        print(j.rID,j.rname,j.rtype,j.appcal)\n",
    "    "
   ]
  },
  {
   "cell_type": "code",
   "execution_count": null,
   "id": "2a48cfde",
   "metadata": {},
   "outputs": [],
   "source": [
    "\n"
   ]
  },
  {
   "cell_type": "code",
   "execution_count": null,
   "id": "4197083e",
   "metadata": {},
   "outputs": [],
   "source": []
  }
 ],
 "metadata": {
  "kernelspec": {
   "display_name": "Python 3",
   "language": "python",
   "name": "python3"
  },
  "language_info": {
   "codemirror_mode": {
    "name": "ipython",
    "version": 3
   },
   "file_extension": ".py",
   "mimetype": "text/x-python",
   "name": "python",
   "nbconvert_exporter": "python",
   "pygments_lexer": "ipython3",
   "version": "3.8.8"
  }
 },
 "nbformat": 4,
 "nbformat_minor": 5
}
