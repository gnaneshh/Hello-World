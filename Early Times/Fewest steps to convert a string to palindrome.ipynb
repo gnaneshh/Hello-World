{
 "cells": [
  {
   "cell_type": "code",
   "execution_count": 7,
   "id": "e8be465a",
   "metadata": {},
   "outputs": [
    {
     "name": "stdout",
     "output_type": "stream",
     "text": [
      "Enter string: geeksfgeeks\n",
      "4\n"
     ]
    }
   ],
   "source": [
    "s=input(\"Enter string: \")\n",
    "count=0\n",
    "n=len(s)\n",
    "if n%2==0:\n",
    "    s1=s[0:(n//2)]\n",
    "    s2=s[(n//2):n]\n",
    "else:\n",
    "    s1=s[0:n//2]\n",
    "    s2=s[n//2+1:n]\n",
    "\n",
    "s2=list(s2[::-1])\n",
    "s1=list(s1)\n",
    "\n",
    "for i in range(len(s1)):\n",
    "    if s1[i]!=s2[i]:\n",
    "        count+=1\n",
    "print(count)\n",
    "\n"
   ]
  },
  {
   "cell_type": "code",
   "execution_count": 10,
   "id": "b5ce260f",
   "metadata": {},
   "outputs": [
    {
     "name": "stdout",
     "output_type": "stream",
     "text": [
      "857923\n"
     ]
    }
   ],
   "source": [
    "a=322356\n",
    "b=535567\n",
    "print(a+b)"
   ]
  },
  {
   "cell_type": "code",
   "execution_count": null,
   "id": "6271d6d5",
   "metadata": {},
   "outputs": [],
   "source": []
  }
 ],
 "metadata": {
  "kernelspec": {
   "display_name": "Python 3",
   "language": "python",
   "name": "python3"
  },
  "language_info": {
   "codemirror_mode": {
    "name": "ipython",
    "version": 3
   },
   "file_extension": ".py",
   "mimetype": "text/x-python",
   "name": "python",
   "nbconvert_exporter": "python",
   "pygments_lexer": "ipython3",
   "version": "3.8.8"
  }
 },
 "nbformat": 4,
 "nbformat_minor": 5
}
