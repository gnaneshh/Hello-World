{
 "cells": [
  {
   "cell_type": "code",
   "execution_count": 3,
   "id": "f9dc6582",
   "metadata": {},
   "outputs": [],
   "source": [
    "class Player:\n",
    "    def __init__(self,name,country,age,matches,runs,wickets):\n",
    "        self.name=name\n",
    "        self.country=country\n",
    "        self.age=age\n",
    "        self.matches=matches\n",
    "        self.runs=runs\n",
    "        self.wickets=wickets"
   ]
  },
  {
   "cell_type": "code",
   "execution_count": 33,
   "id": "1832ced7",
   "metadata": {},
   "outputs": [],
   "source": [
    "class Team:\n",
    "    def __init__(self,lst):\n",
    "        self.lst=lst\n",
    "        \n",
    "    def minruns(self):\n",
    "        p=[]\n",
    "        for i in self.lst:\n",
    "            p.append(i.runs)\n",
    "        k=min(p)\n",
    "        for j in self.lst:\n",
    "            if k==j.runs:\n",
    "                print(\"Min. Runs: \",k)\n",
    "                print(\"Player Name: \",j.name)\n",
    "                print(\"Player Country: \",j.country)\n",
    "        \n",
    "        \n",
    "    def maxwickets(self):\n",
    "        m=[]\n",
    "        for i in self.lst:\n",
    "            m.append(i.wickets)\n",
    "        o=max(m)\n",
    "        for j in self.lst:\n",
    "            if o==j.wickets:\n",
    "                print(\"Max. Wickets: \",o)\n",
    "                print(\"Player Name: \",j.name)\n",
    "                print(\"Player Country: \",j.country)\n",
    "        \n",
    "    \n",
    "        "
   ]
  },
  {
   "cell_type": "code",
   "execution_count": 34,
   "id": "45edc48e",
   "metadata": {},
   "outputs": [
    {
     "name": "stdout",
     "output_type": "stream",
     "text": [
      "Total no. of players: 3\n",
      "Enter Name: Gnanesh\n",
      "Enter Country: ENG\n",
      "Enter Age: 21\n",
      "Enter no. of matches: 25\n",
      "Enter no. of runs: 985\n",
      "Enter no. of wickets: 25\n",
      "Enter Name: Ajeema\n",
      "Enter Country: WI\n",
      "Enter Age: 21\n",
      "Enter no. of matches: 25\n",
      "Enter no. of runs: 456\n",
      "Enter no. of wickets: 56\n",
      "Enter Name: Gnajeee\n",
      "Enter Country: IND\n",
      "Enter Age: 21\n",
      "Enter no. of matches: 25\n",
      "Enter no. of runs: 1564\n",
      "Enter no. of wickets: 69\n",
      "Min. Runs:  456\n",
      "Player Name:  Ajeema\n",
      "Player Country:  WI\n",
      "Max. Wickets:  69\n",
      "Player Name:  Gnajeee\n",
      "Player Country:  IND\n"
     ]
    }
   ],
   "source": [
    "if __name__==\"__main__\":\n",
    "    p=[]\n",
    "    np=int(input(\"Total no. of players: \"))\n",
    "    for i in range(0,np):\n",
    "        n=input(\"Enter Name: \")\n",
    "        c=input(\"Enter Country: \")\n",
    "        a=int(input(\"Enter Age: \"))\n",
    "        m=int(input(\"Enter no. of matches: \"))\n",
    "        r=int(input(\"Enter no. of runs: \"))\n",
    "        w=int(input(\"Enter no. of wickets: \"))\n",
    "        p.append(Player(n,c,a,m,r,w))\n",
    "t=Team(p)\n",
    "t.minruns()\n",
    "t.maxwickets()\n",
    "\n"
   ]
  },
  {
   "cell_type": "code",
   "execution_count": 20,
   "id": "1531efcf",
   "metadata": {},
   "outputs": [
    {
     "name": "stdout",
     "output_type": "stream",
     "text": [
      "1\n"
     ]
    }
   ],
   "source": [
    "p=[1,2,3,4,5]\n",
    "print(min(p))"
   ]
  },
  {
   "cell_type": "code",
   "execution_count": null,
   "id": "b10907ba",
   "metadata": {},
   "outputs": [],
   "source": []
  }
 ],
 "metadata": {
  "kernelspec": {
   "display_name": "Python 3",
   "language": "python",
   "name": "python3"
  },
  "language_info": {
   "codemirror_mode": {
    "name": "ipython",
    "version": 3
   },
   "file_extension": ".py",
   "mimetype": "text/x-python",
   "name": "python",
   "nbconvert_exporter": "python",
   "pygments_lexer": "ipython3",
   "version": "3.8.8"
  }
 },
 "nbformat": 4,
 "nbformat_minor": 5
}
