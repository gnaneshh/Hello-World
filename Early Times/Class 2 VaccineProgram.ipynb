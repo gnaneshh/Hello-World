{
 "cells": [
  {
   "cell_type": "code",
   "execution_count": 8,
   "id": "89aa384e",
   "metadata": {},
   "outputs": [],
   "source": [
    "class Citizen:\n",
    "    def __init__(self,cid,name,age,isfw,vacopt,pref):\n",
    "        self.cid=cid\n",
    "        self.name=name\n",
    "        self.age=age\n",
    "        self.isfw=isfw\n",
    "        self.vacopt=vacopt\n",
    "        self.pref=pref\n",
    "    def setpreference(self,lst):\n",
    "        for i in lst:\n",
    "            if i.isfw=='y' or i.age>45:\n",
    "                i.pref=1\n",
    "            else:\n",
    "                i.pref=0\n",
    "        return lst\n",
    "\n",
    "class VaccinationDrive:\n",
    "    def __init__(self,clist):\n",
    "        self.clist=clist\n",
    "    def getprefvc(self):\n",
    "        count=0\n",
    "        for i in self.clist:\n",
    "            if i.pref==1:\n",
    "                count+=1\n",
    "        if count==0:\n",
    "            return None\n",
    "        else:\n",
    "            return count\n",
    "    def getcitivac(self,vname):\n",
    "        l=[]\n",
    "        co=0\n",
    "        for i in self.clist:\n",
    "            if i.vacopt.lower()==vname.lower():\n",
    "                co+=1\n",
    "                l.append(i)\n",
    "        if co==0:\n",
    "             return None\n",
    "        else:\n",
    "             return l\n",
    "            \n",
    "        \n",
    "        \n",
    "            \n",
    "        \n",
    "        "
   ]
  },
  {
   "cell_type": "code",
   "execution_count": null,
   "id": "7e3fd460",
   "metadata": {},
   "outputs": [
    {
     "name": "stdout",
     "output_type": "stream",
     "text": [
      "Enter no. of Citizens: 4\n",
      "Enter ID: 101\n",
      "Enter Name: raman\n",
      "Enter Age: 20\n",
      "Is the citizen a frontline worker (y/n): n\n",
      "Enter vaccine opted: cs\n",
      "Enter ID: 102\n",
      "Enter Name: kiran\n",
      "Enter Age: 26\n",
      "Is the citizen a frontline worker (y/n): n\n",
      "Enter vaccine opted: cv\n",
      "Enter ID: 103\n",
      "Enter Name: preeti\n",
      "Enter Age: 37\n",
      "Is the citizen a frontline worker (y/n): n\n",
      "Enter vaccine opted: cs\n",
      "Enter ID: 104\n"
     ]
    }
   ],
   "source": [
    "if __name__==\"__main__\":\n",
    "    p=[]\n",
    "    pref=None\n",
    "    n=int(input(\"Enter no. of Citizens: \"))\n",
    "    for i in range(n):\n",
    "        cid=input(\"Enter ID: \")\n",
    "        cname=input(\"Enter Name: \")\n",
    "        cage=int(input(\"Enter Age: \"))\n",
    "        isfw=input(\"Is the citizen a frontline worker (y/n): \")\n",
    "        vacopt=input(\"Enter vaccine opted: \")\n",
    "        obj=Citizen(cid,cname,cage,isfw,vacopt,pref)\n",
    "        p.append(obj)\n",
    "    e=obj.setpreference(p)\n",
    "    vbj=VaccinationDrive(e)\n",
    "    vname=input(\"Vaccine name: \") \n",
    "    k=vbj.getprefvc()\n",
    "    z=vbj.getcitivac(vname)\n",
    "    if k==None:\n",
    "        print(\"No Citizen\")\n",
    "    else:\n",
    "        print(\"Count= \",k)\n",
    "    if z==None:\n",
    "        print(\"NO CITIZEN\")\n",
    "    else:\n",
    "        l=[]\n",
    "        l=sorted(z,key=lambda x:x.age)\n",
    "        for i in l:\n",
    "            print(\"Citizen Name: \",i.name)\n",
    "            print(\"Citizen ID: \",i.cid)\n",
    "            print(\"Citizen Age: \",i.age)\n",
    "\n",
    "        "
   ]
  },
  {
   "cell_type": "code",
   "execution_count": 7,
   "id": "70f3d244",
   "metadata": {},
   "outputs": [
    {
     "name": "stdout",
     "output_type": "stream",
     "text": [
      "[(8, 8, 0), (1, 2, 3), (5, 8, 4), (7, 9, 4)]\n"
     ]
    }
   ],
   "source": [
    "k=[(1,2,3),(8,8,0),(5,8,4),(7,9,4)]\n",
    "m=sorted(k,key=lambda x:x[2])\n",
    "print(list(m))"
   ]
  },
  {
   "cell_type": "code",
   "execution_count": null,
   "id": "040cbd87",
   "metadata": {},
   "outputs": [],
   "source": []
  },
  {
   "cell_type": "code",
   "execution_count": null,
   "id": "f2428831",
   "metadata": {},
   "outputs": [],
   "source": []
  }
 ],
 "metadata": {
  "kernelspec": {
   "display_name": "Python 3",
   "language": "python",
   "name": "python3"
  },
  "language_info": {
   "codemirror_mode": {
    "name": "ipython",
    "version": 3
   },
   "file_extension": ".py",
   "mimetype": "text/x-python",
   "name": "python",
   "nbconvert_exporter": "python",
   "pygments_lexer": "ipython3",
   "version": "3.8.8"
  }
 },
 "nbformat": 4,
 "nbformat_minor": 5
}
