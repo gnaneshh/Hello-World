{
 "cells": [
  {
   "cell_type": "code",
   "execution_count": 3,
   "id": "3148e836",
   "metadata": {},
   "outputs": [
    {
     "name": "stdout",
     "output_type": "stream",
     "text": [
      "No. of terms:7\n",
      "784\n"
     ]
    }
   ],
   "source": [
    "n=int(input(\"No. of terms:\"))\n",
    "sum=0\n",
    "for i in range(1,n+1):\n",
    "    sum=sum+(i**3)\n",
    "print(sum)\n",
    "    "
   ]
  },
  {
   "cell_type": "code",
   "execution_count": 13,
   "id": "087723e7",
   "metadata": {},
   "outputs": [
    {
     "name": "stdout",
     "output_type": "stream",
     "text": [
      "Enter no: 14\n",
      "No\n"
     ]
    }
   ],
   "source": [
    "k=int(input(\"Enter no: \"))\n",
    "flag=0;\n",
    "f1,f2=0,1\n",
    "for i in range(1,100):\n",
    "    f3=f1+f2\n",
    "    f1=f2\n",
    "    f2=f3\n",
    "    if(f3==k):\n",
    "        flag+=1\n",
    "        break\n",
    "if(k==0 or k==1 or flag>0):\n",
    "    print(\"Yes\")\n",
    "else:\n",
    "    print(\"No\")\n",
    "        "
   ]
  },
  {
   "cell_type": "code",
   "execution_count": 4,
   "id": "5910c20e",
   "metadata": {},
   "outputs": [
    {
     "name": "stdout",
     "output_type": "stream",
     "text": [
      "No. of elements:5\n",
      "Enter no. 1\n",
      "Enter no. 2\n",
      "Enter no. 3\n",
      "Enter no. 4\n",
      "Enter no. 5\n",
      "No. of terms2\n",
      "[3, 4, 5, 1, 2]\n"
     ]
    }
   ],
   "source": [
    "n=int(input(\"No. of elements:\"))\n",
    "a=[]\n",
    "b=[]\n",
    "for i in range(0,n):\n",
    "    b=int(input(\"Enter no. \"))\n",
    "    a.append(b)\n",
    "k=int(input(\"No. of terms\"))\n",
    "b=a[k:]+a[:k]\n",
    "print(b)\n"
   ]
  },
  {
   "cell_type": "code",
   "execution_count": 9,
   "id": "79032a73",
   "metadata": {},
   "outputs": [
    {
     "name": "stdout",
     "output_type": "stream",
     "text": [
      "2318\n"
     ]
    }
   ],
   "source": [
    "sum=0\n",
    "for i in range(2,100):\n",
    "    if(i%3==0 or i%5==0):\n",
    "        sum+=i\n",
    "print(sum)"
   ]
  },
  {
   "cell_type": "code",
   "execution_count": 10,
   "id": "71c46866",
   "metadata": {},
   "outputs": [
    {
     "name": "stdout",
     "output_type": "stream",
     "text": [
      "Enter string: I am a black woman\n",
      "{'a': 0, 'e': 0, 'i': 0, 'o': 0, 'u': 0}\n",
      "{'a': 4, 'e': 0, 'i': 1, 'o': 1, 'u': 0}\n"
     ]
    }
   ],
   "source": [
    "a=input(\"Enter string: \")\n",
    "a=a.casefold()\n",
    "vowels=\"aeiou\"\n",
    "\n",
    "newdict=dict.fromkeys(vowels,0)\n",
    "print(newdict)\n",
    "for i in a:\n",
    "    if i in newdict:\n",
    "        newdict[i]+=1\n",
    "print(newdict)\n"
   ]
  },
  {
   "cell_type": "code",
   "execution_count": 1,
   "id": "ed18baf6",
   "metadata": {},
   "outputs": [
    {
     "name": "stdout",
     "output_type": "stream",
     "text": [
      "0\n"
     ]
    }
   ],
   "source": [
    "print(123123123%9)"
   ]
  },
  {
   "cell_type": "code",
   "execution_count": 6,
   "id": "8fcc770d",
   "metadata": {
    "scrolled": true
   },
   "outputs": [
    {
     "name": "stdout",
     "output_type": "stream",
     "text": [
      "[0, 1, 0, -1, -2, -1, -2, -1, 0]\n"
     ]
    }
   ],
   "source": [
    "steps=8\n",
    "path=\"UDDDUDUU\"\n",
    "lst=[0]\n",
    "for i in range(1,steps+1):\n",
    "    if path[i-1]==\"D\":\n",
    "        lst.append(lst[i-1]-1)\n",
    "    else:\n",
    "        lst.append(lst[i-1]+1)\n",
    "print(lst)\n"
   ]
  },
  {
   "cell_type": "code",
   "execution_count": 1,
   "id": "45b4aa11",
   "metadata": {},
   "outputs": [
    {
     "name": "stdout",
     "output_type": "stream",
     "text": [
      "False\n"
     ]
    }
   ],
   "source": [
    "a={\"a\":1,\"b\":2}\n",
    "b={\"a\":2,\"b\":2}\n",
    "print(a==b)"
   ]
  },
  {
   "cell_type": "code",
   "execution_count": 1,
   "id": "4175b824",
   "metadata": {},
   "outputs": [
    {
     "name": "stdout",
     "output_type": "stream",
     "text": [
      "[1, 2, 3] is [1, 2, 3]=False\n"
     ]
    }
   ],
   "source": [
    "a=[1,2,3]\n",
    "b=[1,2,3]\n",
    "print(\"{a} is {b}={ans}\".format(a=a,b=b,ans=a is b))"
   ]
  },
  {
   "cell_type": "code",
   "execution_count": null,
   "id": "fd0c10bc",
   "metadata": {},
   "outputs": [],
   "source": []
  }
 ],
 "metadata": {
  "kernelspec": {
   "display_name": "Python 3",
   "language": "python",
   "name": "python3"
  },
  "language_info": {
   "codemirror_mode": {
    "name": "ipython",
    "version": 3
   },
   "file_extension": ".py",
   "mimetype": "text/x-python",
   "name": "python",
   "nbconvert_exporter": "python",
   "pygments_lexer": "ipython3",
   "version": "3.8.8"
  }
 },
 "nbformat": 4,
 "nbformat_minor": 5
}
