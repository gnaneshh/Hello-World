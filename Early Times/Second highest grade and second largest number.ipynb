{
 "cells": [
  {
   "cell_type": "code",
   "execution_count": null,
   "id": "63d797da",
   "metadata": {},
   "outputs": [],
   "source": [
    "if __name__ == '__main__':\n",
    "    a={}\n",
    "    for i in range(int(input())):\n",
    "        name = input()\n",
    "        score = float(input())\n",
    "        a.update({name:score})\n",
    "    lst=list(a.items())\n",
    "    lst.sort(key=lambda x: x[1])\n",
    "    mscore=lst[0][1]\n",
    "    for i in lst:\n",
    "        if i[1]>mscore:\n",
    "            score=i[1]\n",
    "            break\n",
    "    lst1=[]\n",
    "    for i in lst:\n",
    "        if i[1]==score:\n",
    "            lst1.append(i[0])\n",
    "    lst1.sort(key=lambda x: x[0])\n",
    "    for i in lst1:\n",
    "        print(i)\n",
    "    \n",
    "            \n",
    "        \n",
    "    \n"
   ]
  },
  {
   "cell_type": "code",
   "execution_count": null,
   "id": "ffc53f9d",
   "metadata": {},
   "outputs": [],
   "source": [
    "if __name__ == '__main__':\n",
    "    n = int(input())\n",
    "    arr = map(int, input().split())\n",
    "    second=sorted(list(set(arr)),reverse=True)[1]\n",
    "    print(second)\n",
    "    "
   ]
  }
 ],
 "metadata": {
  "kernelspec": {
   "display_name": "Python 3",
   "language": "python",
   "name": "python3"
  },
  "language_info": {
   "codemirror_mode": {
    "name": "ipython",
    "version": 3
   },
   "file_extension": ".py",
   "mimetype": "text/x-python",
   "name": "python",
   "nbconvert_exporter": "python",
   "pygments_lexer": "ipython3",
   "version": "3.8.8"
  }
 },
 "nbformat": 4,
 "nbformat_minor": 5
}
