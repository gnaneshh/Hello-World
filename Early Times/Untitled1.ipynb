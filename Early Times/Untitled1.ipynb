{
 "cells": [
  {
   "cell_type": "code",
   "execution_count": null,
   "id": "a3e59d24",
   "metadata": {},
   "outputs": [],
   "source": [
    "class Employee:\n",
    "    def __init__(self,ID,name,age,sname,salary):\n",
    "        self.ID=ID\n",
    "        self.name=name\n",
    "        self.age=age\n",
    "        self.sname=sname\n",
    "        self.salary=salary\n",
    "        \n",
    "class Supervisor:\n",
    "    def __init__(self,supname,elist):\n",
    "        self.supname=supname\n",
    "        self.elist=elist\n",
    "        \n",
    "    def findMaxAge(self):\n",
    "        if not self.elist:\n",
    "            return None\n",
    "        m=max(self.elist,key=attrgetter(\"age\"))\n",
    "        return m\n",
    "        \n",
    "    def sortSalary(self):\n",
    "        if not self.elist:\n",
    "            return None\n",
    "        l=[]\n",
    "        for i in self.elist:\n",
    "            l.append(i.salary)\n",
    "        l.sort()\n",
    "        return l\n",
    "        \n",
    "from operator import attrgetter        \n",
    "lst=[]\n",
    "n=int(input())\n",
    "for i in range(n):\n",
    "    a=input()\n",
    "    b=input()\n",
    "    c=int(input())\n",
    "    d=input()\n",
    "    e=float(input())\n",
    "    lst.append(Employee(a,b,c,d,e))\n",
    "    \n",
    "obj=Supervisor(\"Ajith\",lst)\n",
    "val=obj.findMaxAge()\n",
    "val2=obj.sortSalary()\n",
    "if not val:\n",
    "    print(\"No Data Found.\")\n",
    "else:\n",
    "    print(val.ID)\n",
    "    print(val.name)\n",
    "    print(val.age)\n",
    "    print(val.sname)\n",
    "    print(val.salary)\n",
    "if not val2:\n",
    "    print(\"No Data Found.\")\n",
    "else:\n",
    "    for i in val2:\n",
    "        print(i)"
   ]
  },
  {
   "cell_type": "code",
   "execution_count": 2,
   "id": "36659e41",
   "metadata": {},
   "outputs": [
    {
     "name": "stdout",
     "output_type": "stream",
     "text": [
      "(2+3j) (2+3j) (2+3j)\n",
      "(2+3j)\n"
     ]
    }
   ],
   "source": [
    "a=complex(2,3)\n",
    "b=2+3j\n",
    "c=2+3J\n",
    "d=2+3j\n",
    "print(a,b,c)\n",
    "print(d)"
   ]
  },
  {
   "cell_type": "code",
   "execution_count": 4,
   "id": "3ca12f7a",
   "metadata": {},
   "outputs": [
    {
     "name": "stdout",
     "output_type": "stream",
     "text": [
      "3.8.8 (default, Apr 13 2021, 15:08:03) [MSC v.1916 64 bit (AMD64)]\n",
      "<class 'str'>\n"
     ]
    }
   ],
   "source": [
    "import sys\n",
    "print(sys.version)\n",
    "print(type(sys.version))"
   ]
  },
  {
   "cell_type": "code",
   "execution_count": 6,
   "id": "5272567a",
   "metadata": {},
   "outputs": [
    {
     "ename": "NameError",
     "evalue": "name 'fadsds_' is not defined",
     "output_type": "error",
     "traceback": [
      "\u001b[1;31m---------------------------------------------------------------------------\u001b[0m",
      "\u001b[1;31mNameError\u001b[0m                                 Traceback (most recent call last)",
      "\u001b[1;32m<ipython-input-6-2946687fa92d>\u001b[0m in \u001b[0;36m<module>\u001b[1;34m\u001b[0m\n\u001b[0;32m      1\u001b[0m \u001b[0mx\u001b[0m\u001b[1;33m=\u001b[0m\u001b[1;36m2\u001b[0m\u001b[1;33m\u001b[0m\u001b[1;33m\u001b[0m\u001b[0m\n\u001b[1;32m----> 2\u001b[1;33m \u001b[0mfadsds_\u001b[0m\u001b[1;33m*=\u001b[0m\u001b[1;36m90\u001b[0m\u001b[1;33m\u001b[0m\u001b[1;33m\u001b[0m\u001b[0m\n\u001b[0m",
      "\u001b[1;31mNameError\u001b[0m: name 'fadsds_' is not defined"
     ]
    }
   ],
   "source": [
    "x=2\n",
    "fadsds_*=90\n"
   ]
  },
  {
   "cell_type": "code",
   "execution_count": 7,
   "id": "ee10ba7d",
   "metadata": {},
   "outputs": [
    {
     "name": "stdout",
     "output_type": "stream",
     "text": [
      "-4\n"
     ]
    }
   ],
   "source": [
    "print(-7//2)"
   ]
  },
  {
   "cell_type": "code",
   "execution_count": 15,
   "id": "c0224eb6",
   "metadata": {},
   "outputs": [
    {
     "name": "stdout",
     "output_type": "stream",
     "text": [
      "5\n",
      "3\n"
     ]
    }
   ],
   "source": [
    "a=5\n",
    "b=3\n",
    "\n",
    "print(a or b)\n",
    "print(a and b)"
   ]
  },
  {
   "cell_type": "code",
   "execution_count": 18,
   "id": "919411e0",
   "metadata": {},
   "outputs": [
    {
     "name": "stdout",
     "output_type": "stream",
     "text": [
      "False\n"
     ]
    }
   ],
   "source": [
    "print((a>b) & (a<b))"
   ]
  },
  {
   "cell_type": "code",
   "execution_count": 19,
   "id": "c02b7068",
   "metadata": {},
   "outputs": [
    {
     "name": "stdout",
     "output_type": "stream",
     "text": [
      "<class 'str'>\n"
     ]
    }
   ],
   "source": [
    "print(type(\"5+3j\"))"
   ]
  },
  {
   "cell_type": "code",
   "execution_count": null,
   "id": "7e2fa9a8",
   "metadata": {},
   "outputs": [],
   "source": []
  }
 ],
 "metadata": {
  "kernelspec": {
   "display_name": "Python 3",
   "language": "python",
   "name": "python3"
  }
 },
 "nbformat": 4,
 "nbformat_minor": 5
}
