{
 "cells": [
  {
   "cell_type": "code",
   "execution_count": 4,
   "id": "00d94265",
   "metadata": {},
   "outputs": [],
   "source": [
    "class AmazonPrime:\n",
    "    def __init__(self,ID,name,package,show,views):\n",
    "        self.ID=ID\n",
    "        self.name=name\n",
    "        self.package=package\n",
    "        self.show=show\n",
    "        self.views=views\n",
    "        "
   ]
  },
  {
   "cell_type": "code",
   "execution_count": 5,
   "id": "0cbde269",
   "metadata": {},
   "outputs": [],
   "source": [
    "class MyClass:\n",
    "    def daysLeft(self,primelist,primeID,days):\n",
    "        for i in primelist:\n",
    "            if i.ID==primeID:\n",
    "                return abs(i.package-days)\n",
    "        return None\n",
    "        \n",
    "    def findDetails(self,primelist,primeshow):\n",
    "        lst=[]\n",
    "        for i in primelist:\n",
    "            if i.show==primeshow:\n",
    "                lst.append(i)\n",
    "        if len(lst)!=0:\n",
    "            lst.sort(key=lambda x:x.views)\n",
    "            return lst\n",
    "        return None\n",
    "                "
   ]
  },
  {
   "cell_type": "code",
   "execution_count": 7,
   "id": "46ea7518",
   "metadata": {},
   "outputs": [
    {
     "name": "stdout",
     "output_type": "stream",
     "text": [
      "4\n",
      "100\n",
      "april\n",
      "129\n",
      "suits\n",
      "30\n",
      "102\n",
      "lex\n",
      "999\n",
      "anatomy\n",
      "25\n",
      "103\n",
      "alex\n",
      "999\n",
      "anatomy\n",
      "5\n",
      "104\n",
      "mark\n",
      "999\n",
      "suits\n",
      "40\n",
      "19\n",
      "100\n",
      "anatomy\n",
      "TIME TO RECHARGE!\n",
      "103 alex 5\n",
      "102 lex 25\n"
     ]
    }
   ],
   "source": [
    "if __name__==\"__main__\":\n",
    "    lst=[]\n",
    "    n=int(input())\n",
    "    for i in range(n):\n",
    "        a=int(input())\n",
    "        b=input()\n",
    "        c=int(input())\n",
    "        d=input()\n",
    "        e=int(input())\n",
    "        obj=AmazonPrime(a,b,c,d,e)\n",
    "        lst.append(obj)\n",
    "        \n",
    "    number=int(input()) \n",
    "    days=int(input())\n",
    "    shows=input()\n",
    "    vbj=MyClass()\n",
    "    ans=vbj.daysLeft(lst,number,days)\n",
    "    ans1=vbj.findDetails(lst,shows)\n",
    "    if ans:\n",
    "        print(ans)\n",
    "    else:\n",
    "        print(\"TIME TO RECHARGE!\")\n",
    "    if ans1:\n",
    "        for i in ans1:\n",
    "            print(i.ID,i.name,i.views)\n",
    "    else:\n",
    "        print(\"NO SHOW AVAILABLE\")\n",
    "        \n",
    "        "
   ]
  },
  {
   "cell_type": "code",
   "execution_count": null,
   "id": "67e7d0d9",
   "metadata": {},
   "outputs": [],
   "source": []
  }
 ],
 "metadata": {
  "kernelspec": {
   "display_name": "Python 3",
   "language": "python",
   "name": "python3"
  },
  "language_info": {
   "codemirror_mode": {
    "name": "ipython",
    "version": 3
   },
   "file_extension": ".py",
   "mimetype": "text/x-python",
   "name": "python",
   "nbconvert_exporter": "python",
   "pygments_lexer": "ipython3",
   "version": "3.8.8"
  }
 },
 "nbformat": 4,
 "nbformat_minor": 5
}
