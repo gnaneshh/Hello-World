{
 "cells": [
  {
   "cell_type": "code",
   "execution_count": 1,
   "id": "c5dfaa52",
   "metadata": {},
   "outputs": [],
   "source": [
    "class Bill:\n",
    "    def __init__(self,ID,Type,status,amount):\n",
    "        self.ID=ID\n",
    "        self.Type=Type\n",
    "        self.status=status\n",
    "        self.amount=amount"
   ]
  },
  {
   "cell_type": "code",
   "execution_count": 2,
   "id": "57f54b88",
   "metadata": {},
   "outputs": [],
   "source": [
    "class Solution:\n",
    "    def findStatus(self,billist,bID):\n",
    "        for i in billist:\n",
    "            if i.ID==bID:\n",
    "                return i.status\n",
    "        return None\n",
    "    def getBillInDesc(self,billist,bstatus):\n",
    "        lst=[]\n",
    "        for i in billist:\n",
    "            if i.status==bstatus:\n",
    "                lst.append(i)\n",
    "        if len(lst)!=0:\n",
    "            lst.sort(key=lambda x:x.amount,reverse=True)\n",
    "            return lst\n",
    "        return None\n",
    "                \n",
    "        "
   ]
  },
  {
   "cell_type": "code",
   "execution_count": 5,
   "id": "7c7180d9",
   "metadata": {},
   "outputs": [
    {
     "name": "stdout",
     "output_type": "stream",
     "text": [
      "4\n",
      "101\n",
      "electricity\n",
      "paid\n",
      "4000\n",
      "102\n",
      "mobile\n",
      "unpaid\n",
      "599\n",
      "103\n",
      "mad\n",
      "paid\n",
      "5000\n",
      "104\n",
      "groceries\n",
      "unpaid\n",
      "300\n",
      "104\n",
      "paid\n",
      "unpaid\n",
      "103 mad paid 5000\n",
      "101 electricity paid 4000\n"
     ]
    }
   ],
   "source": [
    "if __name__==\"__main__\":\n",
    "    lst=[]\n",
    "    n=int(input())\n",
    "    for i in range(n):\n",
    "        a=int(input())\n",
    "        b=input()\n",
    "        c=input()\n",
    "        d=int(input())\n",
    "        obj=Bill(a,b,c,d)\n",
    "        lst.append(obj)\n",
    "    vbj=Solution()\n",
    "    billno=int(input())\n",
    "    bstatus=input()\n",
    "    ans=vbj.findStatus(lst,billno)\n",
    "    ans1=vbj.getBillInDesc(lst,bstatus)\n",
    "    if ans:\n",
    "        print(ans)\n",
    "    else:\n",
    "        print(\"Invalid ID\")\n",
    "    if ans1:\n",
    "        for i in ans1:\n",
    "            print(i.ID,i.Type,i.status,i.amount)\n",
    "    else:\n",
    "        print(\"Status not specified\")\n",
    "        "
   ]
  },
  {
   "cell_type": "code",
   "execution_count": null,
   "id": "8639e865",
   "metadata": {},
   "outputs": [],
   "source": []
  },
  {
   "cell_type": "code",
   "execution_count": null,
   "id": "1a36b36e",
   "metadata": {},
   "outputs": [],
   "source": []
  }
 ],
 "metadata": {
  "kernelspec": {
   "display_name": "Python 3",
   "language": "python",
   "name": "python3"
  },
  "language_info": {
   "codemirror_mode": {
    "name": "ipython",
    "version": 3
   },
   "file_extension": ".py",
   "mimetype": "text/x-python",
   "name": "python",
   "nbconvert_exporter": "python",
   "pygments_lexer": "ipython3",
   "version": "3.8.8"
  }
 },
 "nbformat": 4,
 "nbformat_minor": 5
}
