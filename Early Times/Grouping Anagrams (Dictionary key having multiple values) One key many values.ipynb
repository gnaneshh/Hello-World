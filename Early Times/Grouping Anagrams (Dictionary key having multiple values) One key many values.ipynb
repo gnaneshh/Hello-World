{
 "cells": [
  {
   "cell_type": "code",
   "execution_count": null,
   "id": "6d17adfb",
   "metadata": {},
   "outputs": [],
   "source": [
    "n=int(input())\n",
    "l=[]\n",
    "for i in range(n):\n",
    "    s=input()\n",
    "    l.append(s)\n",
    "l1=[]\n",
    "a={}\n",
    "for i in l:\n",
    "    b=\"\".join(sorted(i))\n",
    "    a.setdefault(b, []).append(i)\n",
    "        \n",
    "l2=[]\n",
    "for j in a.values():\n",
    "    l2.append(j)\n",
    "print(l2)"
   ]
  }
 ],
 "metadata": {
  "kernelspec": {
   "display_name": "Python 3",
   "language": "python",
   "name": "python3"
  },
  "language_info": {
   "codemirror_mode": {
    "name": "ipython",
    "version": 3
   },
   "file_extension": ".py",
   "mimetype": "text/x-python",
   "name": "python",
   "nbconvert_exporter": "python",
   "pygments_lexer": "ipython3",
   "version": "3.8.8"
  }
 },
 "nbformat": 4,
 "nbformat_minor": 5
}
