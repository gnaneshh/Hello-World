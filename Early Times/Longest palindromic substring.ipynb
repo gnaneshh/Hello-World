{
 "cells": [
  {
   "cell_type": "code",
   "execution_count": 1,
   "id": "f65451cc",
   "metadata": {},
   "outputs": [
    {
     "name": "stdout",
     "output_type": "stream",
     "text": [
      "geeksskeeg\n"
     ]
    }
   ],
   "source": [
    "s=\"forgeeksskeegfor\"\n",
    "l=[]\n",
    "k1=\"\"\n",
    "for i in s:\n",
    "    indexi=s.index(i)\n",
    "    for j in range(indexi+1,len(s)):\n",
    "        if s[j]==i:\n",
    "            k=s[indexi:j+1]\n",
    "            k1=k[::-1]\n",
    "            if k1==k:\n",
    "                l.append(k)\n",
    "maxm=0\n",
    "for t in l:\n",
    "    if len(t)>maxm:\n",
    "        m=t\n",
    "        maxm=len(t)\n",
    "print(m)"
   ]
  },
  {
   "cell_type": "code",
   "execution_count": null,
   "id": "0348476c",
   "metadata": {},
   "outputs": [],
   "source": []
  }
 ],
 "metadata": {
  "kernelspec": {
   "display_name": "Python 3",
   "language": "python",
   "name": "python3"
  },
  "language_info": {
   "codemirror_mode": {
    "name": "ipython",
    "version": 3
   },
   "file_extension": ".py",
   "mimetype": "text/x-python",
   "name": "python",
   "nbconvert_exporter": "python",
   "pygments_lexer": "ipython3",
   "version": "3.8.8"
  }
 },
 "nbformat": 4,
 "nbformat_minor": 5
}
