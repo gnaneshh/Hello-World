{
 "cells": [
  {
   "cell_type": "code",
   "execution_count": 3,
   "id": "933b1004",
   "metadata": {},
   "outputs": [
    {
     "name": "stdout",
     "output_type": "stream",
     "text": [
      "4\n",
      "11\n",
      "delhi\n",
      "100\n",
      "90\n",
      "12\n",
      "mumbai\n",
      "90\n",
      "45\n",
      "70\n",
      "kochi\n",
      "60\n",
      "30\n",
      "60\n",
      "chennai\n",
      "70\n",
      "45\n",
      "11\n",
      "delhi\n",
      "100\n",
      "90\n",
      "60\n",
      "70\n",
      "90\n",
      "100\n"
     ]
    }
   ],
   "source": [
    "class Subject:\n",
    "    def __init__(self,code,name,credit,teach,subAvg):\n",
    "        self.code=code\n",
    "        self.name=name\n",
    "        self.credit=credit\n",
    "        self.teach=teach\n",
    "        self.subAvg=subAvg\n",
    "        \n",
    "class Grade:\n",
    "    def __init__(self,grade,slist):\n",
    "        self.grade=grade\n",
    "        self.slist=slist\n",
    "    def findMaximumSubjectByCredit(self):\n",
    "        if self.clist:\n",
    "            m=min(self.clist,key=attrgetter(\"pin\"))\n",
    "            return m\n",
    "        return None\n",
    "            \n",
    "    def sortSubjectBySubAvg(self):\n",
    "        if self.clist:\n",
    "            l=[]\n",
    "            for i in self.clist:\n",
    "                l.append(i.pop)\n",
    "            l.sort()\n",
    "            return l\n",
    "        return None\n",
    "        \n",
    "        \n",
    "from operator import attrgetter       \n",
    "lst=[]\n",
    "n=int(input())\n",
    "for i in range(n):\n",
    "    a=input()\n",
    "    b=input()\n",
    "    c=int(input())\n",
    "    d=input()\n",
    "    e=float(input())\n",
    "    lst.append(City(a,b,c,d))\n",
    "obj=District(\"Chennai\",lst)\n",
    "val=obj.findMinimumCityByPinCode()\n",
    "val1=obj.sortCityByPopulation()\n",
    "if not val:\n",
    "    print(\"No Data Found\")\n",
    "else:\n",
    "    print(val.pin)\n",
    "    print(val.name)\n",
    "    print(val.pop)\n",
    "    print(val.area)\n",
    "if not val1:\n",
    "    print(\"No Data Found\")\n",
    "else:\n",
    "    for i in val1:\n",
    "        print(i)"
   ]
  },
  {
   "cell_type": "code",
   "execution_count": null,
   "id": "390d2fed",
   "metadata": {},
   "outputs": [],
   "source": []
  },
  {
   "cell_type": "code",
   "execution_count": null,
   "id": "f5973ed6",
   "metadata": {},
   "outputs": [],
   "source": []
  }
 ],
 "metadata": {
  "kernelspec": {
   "display_name": "Python 3",
   "language": "python",
   "name": "python3"
  },
  "language_info": {
   "codemirror_mode": {
    "name": "ipython",
    "version": 3
   },
   "file_extension": ".py",
   "mimetype": "text/x-python",
   "name": "python",
   "nbconvert_exporter": "python",
   "pygments_lexer": "ipython3",
   "version": "3.8.8"
  }
 },
 "nbformat": 4,
 "nbformat_minor": 5
}
