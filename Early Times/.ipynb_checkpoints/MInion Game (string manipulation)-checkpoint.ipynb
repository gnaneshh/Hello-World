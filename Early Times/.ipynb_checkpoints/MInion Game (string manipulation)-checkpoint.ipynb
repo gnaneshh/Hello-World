{
 "cells": [
  {
   "cell_type": "code",
   "execution_count": 1,
   "id": "c621718a",
   "metadata": {},
   "outputs": [
    {
     "name": "stdout",
     "output_type": "stream",
     "text": [
      "BANAASA\n",
      "Draw\n"
     ]
    }
   ],
   "source": [
    "def minion_game(str1):\n",
    "    str2=str1.lower()\n",
    "   \n",
    "    a=\"aeiou\"\n",
    "    flag=-1\n",
    "    dict1={}\n",
    "    dict2={}\n",
    "    for i in str2:\n",
    "        n=len(str2)\n",
    "        flag+=1\n",
    "        if i in a:\n",
    "            while flag<n:\n",
    "                \n",
    "                k=str2[flag:n]\n",
    "                if k in dict1.keys():\n",
    "                    dict1[k]+=1\n",
    "                else:\n",
    "                    dict1[k]=1\n",
    "                n-=1\n",
    "        else:\n",
    "            while flag<n:\n",
    "                \n",
    "                k=str2[flag:n]\n",
    "                if k in dict2.keys():\n",
    "                    dict2[k]+=1\n",
    "                else:\n",
    "                    dict2[k]=1\n",
    "                n-=1\n",
    "    l1=dict1.values()\n",
    "    sum1=sum(l1)\n",
    "    l2=dict2.values()\n",
    "    sum2=sum(l2)\n",
    "    if sum1>sum2:\n",
    "        print(\"Kevin\",sum1)\n",
    "    elif sum1<sum2:\n",
    "        print(\"Stuart\",sum2)\n",
    "    else:\n",
    "        print(\"Draw\")\n",
    "\n",
    "\n",
    "if __name__ == '__main__':\n",
    "    s = input()\n",
    "    minion_game(s)"
   ]
  },
  {
   "cell_type": "code",
   "execution_count": 2,
   "id": "5afc4465",
   "metadata": {},
   "outputs": [
    {
     "name": "stdout",
     "output_type": "stream",
     "text": [
      "BANANA\n",
      "Stuart 12\n"
     ]
    }
   ],
   "source": [
    "s = str(input())\n",
    "\n",
    "vowels = 'AEIOU'\n",
    "\n",
    "kevsc = 0\n",
    "stusc = 0\n",
    "for i in range(len(s)):\n",
    "    if s[i] in vowels:\n",
    "        kevsc += (len(s)-i)\n",
    "    else:\n",
    "        stusc += (len(s)-i)\n",
    "\n",
    "if kevsc > stusc:\n",
    "    print (\"Kevin\", kevsc)\n",
    "elif kevsc < stusc:\n",
    "    print (\"Stuart\", stusc)\n",
    "else:\n",
    "    print(\"Draw\")"
   ]
  },
  {
   "cell_type": "code",
   "execution_count": null,
   "id": "3f016c24",
   "metadata": {},
   "outputs": [],
   "source": []
  }
 ],
 "metadata": {
  "kernelspec": {
   "display_name": "Python 3",
   "language": "python",
   "name": "python3"
  },
  "language_info": {
   "codemirror_mode": {
    "name": "ipython",
    "version": 3
   },
   "file_extension": ".py",
   "mimetype": "text/x-python",
   "name": "python",
   "nbconvert_exporter": "python",
   "pygments_lexer": "ipython3",
   "version": "3.8.8"
  }
 },
 "nbformat": 4,
 "nbformat_minor": 5
}
