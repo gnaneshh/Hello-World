{
 "cells": [
  {
   "cell_type": "code",
   "execution_count": null,
   "id": "74cbd5b0",
   "metadata": {},
   "outputs": [],
   "source": [
    "def fun(s):\n",
    "    # return True if s is a valid email, else return False\n",
    "    count=0\n",
    "    n=len(s)\n",
    "    k,k1=0,0\n",
    "    c,c1,c2=0,0,0\n",
    "    for i in range(n):\n",
    "        if s[i]=='@':\n",
    "            k=i\n",
    "        elif s[i]=='.':\n",
    "            k1=i\n",
    "    if k1>k and k!=0 and k1!=0:\n",
    "        for i in range(k):\n",
    "            if s[i].isalnum() or s[i]=='_' or s[i]=='-':\n",
    "                pass\n",
    "            else:\n",
    "                c+=1\n",
    "        for j in range(k+1,k1):\n",
    "             if s[j].isalnum():\n",
    "                pass\n",
    "             else:\n",
    "                c1+=1\n",
    "        if (n-(k1+1))<=3:\n",
    "             for i in range(k1+1,n):\n",
    "                if s[i].isalpha():\n",
    "                     pass\n",
    "        else:\n",
    "             c2+=1\n",
    "        if c1==0 and c2==0 and c==0:\n",
    "            return True\n",
    "        else:\n",
    "            return False\n",
    "    \n",
    "    else:\n",
    "         return False\n",
    "                   \n",
    "            \n",
    "            \n",
    "            \n",
    "        \n",
    "                \n",
    "def filter_mail(emails):\n",
    "    return list(filter(fun, emails))\n",
    "\n",
    "if __name__ == '__main__':\n",
    "    n = int(input())\n",
    "    emails = []\n",
    "    for _ in range(n):\n",
    "        emails.append(input())\n",
    "\n",
    "filtered_emails = filter_mail(emails)\n",
    "filtered_emails.sort()\n",
    "print(filtered_emails)"
   ]
  },
  {
   "cell_type": "code",
   "execution_count": 10,
   "id": "0524b884",
   "metadata": {},
   "outputs": [
    {
     "ename": "SyntaxError",
     "evalue": "invalid syntax (<ipython-input-10-60f398704f17>, line 1)",
     "output_type": "error",
     "traceback": [
      "\u001b[1;36m  File \u001b[1;32m\"<ipython-input-10-60f398704f17>\"\u001b[1;36m, line \u001b[1;32m1\u001b[0m\n\u001b[1;33m    Valid email addresses must follow these rules:\u001b[0m\n\u001b[1;37m          ^\u001b[0m\n\u001b[1;31mSyntaxError\u001b[0m\u001b[1;31m:\u001b[0m invalid syntax\n"
     ]
    }
   ],
   "source": [
    "Valid email addresses must follow these rules:\n",
    "\n",
    "It must have the username@websitename.extension format type.\n",
    "The username can only contain letters, digits, dashes and underscores .\n",
    "The website name can only have letters and digits .\n",
    "The extension can only contain letters .\n",
    "The maximum length of the extension is 3"
   ]
  },
  {
   "cell_type": "code",
   "execution_count": null,
   "id": "08e6c088",
   "metadata": {},
   "outputs": [],
   "source": []
  }
 ],
 "metadata": {
  "kernelspec": {
   "display_name": "Python 3",
   "language": "python",
   "name": "python3"
  },
  "language_info": {
   "codemirror_mode": {
    "name": "ipython",
    "version": 3
   },
   "file_extension": ".py",
   "mimetype": "text/x-python",
   "name": "python",
   "nbconvert_exporter": "python",
   "pygments_lexer": "ipython3",
   "version": "3.8.8"
  }
 },
 "nbformat": 4,
 "nbformat_minor": 5
}
