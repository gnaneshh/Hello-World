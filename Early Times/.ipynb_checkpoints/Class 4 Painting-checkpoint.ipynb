{
 "cells": [
  {
   "cell_type": "code",
   "execution_count": null,
   "id": "01e02a1d",
   "metadata": {},
   "outputs": [],
   "source": [
    " "
   ]
  },
  {
   "cell_type": "code",
   "execution_count": 1,
   "id": "803bb5f7",
   "metadata": {},
   "outputs": [],
   "source": [
    "class Painting:\n",
    "    def __init__(self,pID,name,price,ptype):\n",
    "        self.pID=pID\n",
    "        self.name=name\n",
    "        self.price=price\n",
    "        self.ptype=ptype\n",
    "        self.status=\"Available\"\n",
    "    def calculatedisc(self,lst):\n",
    "        self.lst=lst\n",
    "        for i in self.lst:\n",
    "            if i.ptype.lower()==\"portrait\":\n",
    "                dis=0.2\n",
    "            elif i.ptype.lower()==\"landscape\":\n",
    "                dis=0.1\n",
    "            elif i.ptype.lower()==\"modern\":\n",
    "                dis=0.05\n",
    "            else:\n",
    "                pass\n",
    "            return dis\n",
    "        "
   ]
  },
  {
   "cell_type": "code",
   "execution_count": 5,
   "id": "5f9c313f",
   "metadata": {},
   "outputs": [],
   "source": [
    "\n",
    "class Gallery:\n",
    "    def __init__(self,lst):\n",
    "        self.lst=lst\n",
    "    def buyPaintOfType(self,paintype):\n",
    "        tot=0\n",
    "        for i in self.lst:\n",
    "            if i.ptype.lower()==paintype.lower():\n",
    "                i.status=\"sold\"\n",
    "                tot+=i.price\n",
    "        if tot==0:\n",
    "            return None\n",
    "        else:\n",
    "            return tot\n",
    "    def getCostliestPaint(self):\n",
    "        a={}\n",
    "        for i in self.lst:\n",
    "            if i.price in a:\n",
    "                a[i.price]+=1\n",
    "            else:\n",
    "                a[i.price]=1\n",
    "        l1=list(a.items())\n",
    "        l2=[]\n",
    "        l1.sort(key=lambda x:x[0], reverse=True)\n",
    "        m=l1[0][0]\n",
    "        for j in self.lst:\n",
    "                if j.price==m:\n",
    "                    l2.append(j)\n",
    "        return l2\n",
    "            \n",
    "            \n",
    "        "
   ]
  },
  {
   "cell_type": "code",
   "execution_count": 7,
   "id": "4adad4c4",
   "metadata": {},
   "outputs": [
    {
     "name": "stdout",
     "output_type": "stream",
     "text": [
      "Enter no. of paintings: 2\n",
      "Enter painting ID: jkebf\n",
      "Enter name: jhehfj\n",
      "Enter price: 2000\n",
      "Enter ptype: modern\n",
      "Enter painting ID: hjjf\n",
      "Enter name: bqfg\n",
      "Enter price: 5000\n",
      "Enter ptype: portrait\n",
      "Enter paint type to compare: modern\n",
      "hjjf\n",
      "bqfg\n",
      "4750.0\n"
     ]
    },
    {
     "ename": "AttributeError",
     "evalue": "'Painting' object has no attribute 'type'",
     "output_type": "error",
     "traceback": [
      "\u001b[1;31m---------------------------------------------------------------------------\u001b[0m",
      "\u001b[1;31mAttributeError\u001b[0m                            Traceback (most recent call last)",
      "\u001b[1;32m<ipython-input-7-ef5b2c47c057>\u001b[0m in \u001b[0;36m<module>\u001b[1;34m\u001b[0m\n\u001b[0;32m     19\u001b[0m         \u001b[0mprint\u001b[0m\u001b[1;33m(\u001b[0m\u001b[0mi\u001b[0m\u001b[1;33m.\u001b[0m\u001b[0mname\u001b[0m\u001b[1;33m)\u001b[0m\u001b[1;33m\u001b[0m\u001b[1;33m\u001b[0m\u001b[0m\n\u001b[0;32m     20\u001b[0m         \u001b[0mprint\u001b[0m\u001b[1;33m(\u001b[0m\u001b[0mi\u001b[0m\u001b[1;33m.\u001b[0m\u001b[0mprice\u001b[0m\u001b[1;33m)\u001b[0m\u001b[1;33m\u001b[0m\u001b[1;33m\u001b[0m\u001b[0m\n\u001b[1;32m---> 21\u001b[1;33m         \u001b[0mprint\u001b[0m\u001b[1;33m(\u001b[0m\u001b[0mi\u001b[0m\u001b[1;33m.\u001b[0m\u001b[0mtype\u001b[0m\u001b[1;33m)\u001b[0m\u001b[1;33m\u001b[0m\u001b[1;33m\u001b[0m\u001b[0m\n\u001b[0m\u001b[0;32m     22\u001b[0m \u001b[1;33m\u001b[0m\u001b[0m\n",
      "\u001b[1;31mAttributeError\u001b[0m: 'Painting' object has no attribute 'type'"
     ]
    }
   ],
   "source": [
    "if __name__==\"__main__\":\n",
    "    n=int(input(\"Enter no. of paintings: \"))\n",
    "    p=[]\n",
    "    for i in range(n):\n",
    "        a=str(input(\"Enter painting ID: \"))\n",
    "        b=str(input(\"Enter name: \"))\n",
    "        c=int(input(\"Enter price: \"))\n",
    "        d=str(input(\"Enter ptype: \"))\n",
    "        obj=Painting(a,b,c,d)\n",
    "        p.append(obj)\n",
    "        dis=obj.calculatedisc(p)\n",
    "        obj.price=obj.price-(obj.price*dis)\n",
    "    paintype=str(input(\"Enter paint type to compare: \"))\n",
    "    g=Gallery(p)\n",
    "    new_price=g.buyPaintOfType(paintype)\n",
    "    new_list1=g.getCostliestPaint()\n",
    "    for i in new_list1:\n",
    "        print(i.pID)\n",
    "        print(i.name)\n",
    "        print(i.price)\n",
    "        print(i.ptype)\n",
    "    "
   ]
  },
  {
   "cell_type": "code",
   "execution_count": 4,
   "id": "5e2c9c86",
   "metadata": {},
   "outputs": [
    {
     "name": "stdout",
     "output_type": "stream",
     "text": [
      "1\n",
      "{'d': 1, 'df': 5, 'hhh': 3}\n",
      "[('d', 1), ('df', 5), ('hhh', 3)]\n"
     ]
    }
   ],
   "source": [
    "b={\"d\":1, \"df\":5,\"hhh\":3}\n",
    "k=list(b.items())\n",
    "n1=list(b.values())[0]\n",
    "print(n1)\n",
    "print(b)\n",
    "print(k)"
   ]
  },
  {
   "cell_type": "code",
   "execution_count": null,
   "id": "b1271cee",
   "metadata": {},
   "outputs": [],
   "source": []
  },
  {
   "cell_type": "code",
   "execution_count": null,
   "id": "bdaa3e67",
   "metadata": {},
   "outputs": [],
   "source": []
  },
  {
   "cell_type": "code",
   "execution_count": null,
   "id": "48262e54",
   "metadata": {},
   "outputs": [],
   "source": []
  }
 ],
 "metadata": {
  "kernelspec": {
   "display_name": "Python 3",
   "language": "python",
   "name": "python3"
  },
  "language_info": {
   "codemirror_mode": {
    "name": "ipython",
    "version": 3
   },
   "file_extension": ".py",
   "mimetype": "text/x-python",
   "name": "python",
   "nbconvert_exporter": "python",
   "pygments_lexer": "ipython3",
   "version": "3.8.8"
  }
 },
 "nbformat": 4,
 "nbformat_minor": 5
}
