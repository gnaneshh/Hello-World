{
 "cells": [
  {
   "cell_type": "code",
   "execution_count": null,
   "id": "7fd3bad1",
   "metadata": {},
   "outputs": [],
   "source": [
    "\n",
    "a=[]\n",
    "for i in range(11):\n",
    "    m=int(input())\n",
    "    a.append(m)\n",
    "step=0\n",
    "i=0\n",
    "l=[]\n",
    "count=0\n",
    "stopwhen=0\n",
    "while stopwhen<11:\n",
    "    step+=a[i]\n",
    "    for j in range(i+1,i+step+1):\n",
    "        l.append(a[i])\n",
    "    maxm=max(l)\n",
    "    i=maxm\n",
    "    stopwhen+=i\n",
    "    count+=1\n",
    "print(count)\n",
    "    \n",
    "        \n",
    "        \n",
    "    \n",
    "    "
   ]
  },
  {
   "cell_type": "code",
   "execution_count": null,
   "id": "c8a7dd90",
   "metadata": {},
   "outputs": [],
   "source": [
    "\n",
    "a=[]\n",
    "for i in range(10):\n",
    "    m=int(input())\n",
    "    a.append(m)\n",
    "step=0\n",
    "i=0\n",
    "max1=0\n",
    "count=0\n",
    "stopwhen=0\n",
    "while stopwhen<10:\n",
    "    step=a[i]\n",
    "    if i+step+1>10:\n",
    "        count+=1\n",
    "        break\n",
    "    else:\n",
    "        for j in range(i+1,i+step+1):\n",
    "            if a[j]>=max1:\n",
    "                max1=a[j]\n",
    "                i=j\n",
    "        stopwhen+=i\n",
    "        count+=1\n",
    "print(count)\n",
    "        \n",
    "        \n",
    "        \n",
    "    \n",
    "    "
   ]
  },
  {
   "cell_type": "code",
   "execution_count": 7,
   "id": "00e8b507",
   "metadata": {},
   "outputs": [],
   "source": [
    "a=[1,2,3,4,5]\n",
    "b=[1,2,3,4,5,6,7,8,9]"
   ]
  },
  {
   "cell_type": "code",
   "execution_count": 8,
   "id": "f4ca9c66",
   "metadata": {},
   "outputs": [
    {
     "name": "stdout",
     "output_type": "stream",
     "text": [
      "{1, 2, 3, 4, 5, 6, 7, 8, 9}\n"
     ]
    }
   ],
   "source": [
    "a=set(a)\n",
    "b=set(b)\n",
    "print(a.union(b))"
   ]
  },
  {
   "cell_type": "code",
   "execution_count": 9,
   "id": "ce25942d",
   "metadata": {},
   "outputs": [
    {
     "name": "stdout",
     "output_type": "stream",
     "text": [
      "{1, 2, 3, 4, 5}\n"
     ]
    }
   ],
   "source": [
    "print(a.intersection(b))"
   ]
  },
  {
   "cell_type": "code",
   "execution_count": 10,
   "id": "6ea8c253",
   "metadata": {},
   "outputs": [
    {
     "name": "stdout",
     "output_type": "stream",
     "text": [
      "set()\n"
     ]
    }
   ],
   "source": [
    "print(a.difference(b))"
   ]
  },
  {
   "cell_type": "code",
   "execution_count": 11,
   "id": "a3d6db9d",
   "metadata": {},
   "outputs": [
    {
     "name": "stdout",
     "output_type": "stream",
     "text": [
      "{8, 9, 6, 7}\n"
     ]
    }
   ],
   "source": [
    "print(b.difference(a))"
   ]
  },
  {
   "cell_type": "code",
   "execution_count": 15,
   "id": "4b4a676e",
   "metadata": {},
   "outputs": [
    {
     "name": "stdout",
     "output_type": "stream",
     "text": [
      "{6, 7, 8, 9}\n"
     ]
    }
   ],
   "source": [
    "print(a.symmetric_difference(b))"
   ]
  },
  {
   "cell_type": "code",
   "execution_count": null,
   "id": "2ef4d19e",
   "metadata": {},
   "outputs": [],
   "source": []
  }
 ],
 "metadata": {
  "kernelspec": {
   "display_name": "Python 3",
   "language": "python",
   "name": "python3"
  },
  "language_info": {
   "codemirror_mode": {
    "name": "ipython",
    "version": 3
   },
   "file_extension": ".py",
   "mimetype": "text/x-python",
   "name": "python",
   "nbconvert_exporter": "python",
   "pygments_lexer": "ipython3",
   "version": "3.8.8"
  }
 },
 "nbformat": 4,
 "nbformat_minor": 5
}
