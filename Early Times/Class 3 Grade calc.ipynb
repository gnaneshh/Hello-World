{
 "cells": [
  {
   "cell_type": "code",
   "execution_count": 6,
   "id": "e42534b9",
   "metadata": {},
   "outputs": [],
   "source": [
    "class Question:\n",
    "    def __init__(self,qID,markO,score,status):\n",
    "        self.qID=qID\n",
    "        self.markO=markO\n",
    "        self.score=score\n",
    "        self.status=status\n",
    "        self.status=status\n",
    "        "
   ]
  },
  {
   "cell_type": "code",
   "execution_count": 10,
   "id": "e0b2d6b2",
   "metadata": {},
   "outputs": [],
   "source": [
    "class Student:\n",
    "    def __init__(self,lst):\n",
    "        self.lst=lst\n",
    "    def evaluateQuestion(self,dicts):\n",
    "        for i in self.lst:\n",
    "            if (i.qID,i.markO) in dicts.items():\n",
    "                i.status=\"Correct\"\n",
    "            elif i.qID in dicts.keys():\n",
    "                i.status=\"Incorrect\"\n",
    "            else:\n",
    "                i.status=i.status\n",
    "    def findGrade(self):\n",
    "        tot=0\n",
    "        for i in self.lst:\n",
    "            if i.status.lower()==\"correct\" :\n",
    "                tot+=i.score\n",
    "        if tot>=80:\n",
    "            grade='A'\n",
    "        elif tot<80 and tot>=70:\n",
    "            grade='B'\n",
    "        elif tot<70 and tot>=60:\n",
    "            grade='C'\n",
    "        else:\n",
    "            grade='F'\n",
    "        return grade\n",
    "            "
   ]
  },
  {
   "cell_type": "code",
   "execution_count": null,
   "id": "a1d80bf0",
   "metadata": {},
   "outputs": [],
   "source": [
    "if __name__==\"__main__\":\n",
    "    p=[]\n",
    "    d=\"Not Answered\"\n",
    "    n=int(input(\"Enter no. of Question: \"))\n",
    "    for i in range(n):\n",
    "        a=int(input(\"Enter QID: \"))\n",
    "        b=int(input(\"Enter markO: \"))\n",
    "        c=int(input(\"Enter score: \"))\n",
    "        obj=Question(a,b,c,d)\n",
    "        p.append(obj)\n",
    "    k={}\n",
    "    np=int(input(\"Enter no. of dict elements: \"))\n",
    "    for j in range(np):\n",
    "        y=int(input(\"Enter key: \"))\n",
    "        z=int(input(\"Enter value: \"))\n",
    "        k.update({y:z})\n",
    "    vbj=Student(p)\n",
    "    vbj.evaluateQuestion(k)\n",
    "    m=vbj.findGrade()\n",
    "    for i in vbj.lst:\n",
    "        print(i.qID,i.status)\n",
    "    print(m)\n",
    "        \n",
    "    "
   ]
  },
  {
   "cell_type": "code",
   "execution_count": null,
   "id": "7d87c226",
   "metadata": {},
   "outputs": [],
   "source": [
    "\n"
   ]
  },
  {
   "cell_type": "code",
   "execution_count": null,
   "id": "5c78d2b9",
   "metadata": {},
   "outputs": [],
   "source": []
  }
 ],
 "metadata": {
  "kernelspec": {
   "display_name": "Python 3",
   "language": "python",
   "name": "python3"
  },
  "language_info": {
   "codemirror_mode": {
    "name": "ipython",
    "version": 3
   },
   "file_extension": ".py",
   "mimetype": "text/x-python",
   "name": "python",
   "nbconvert_exporter": "python",
   "pygments_lexer": "ipython3",
   "version": "3.8.8"
  }
 },
 "nbformat": 4,
 "nbformat_minor": 5
}
