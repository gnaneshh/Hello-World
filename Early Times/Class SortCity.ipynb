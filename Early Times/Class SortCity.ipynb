{
 "cells": [
  {
   "cell_type": "code",
   "execution_count": 1,
   "id": "435322ce",
   "metadata": {},
   "outputs": [],
   "source": [
    "class City:\n",
    "    def __init__(self,pinC,name,popl,area):\n",
    "        self.pinC=pinC\n",
    "        self.name=name\n",
    "        self.popl=popl\n",
    "        self.area=area\n",
    "class District:\n",
    "    def __init__(self,disname,citylist):\n",
    "        self.disname=disname\n",
    "        self.citylist=citylist\n",
    "    def findMinCity(self):\n",
    "        if len(self.citylist)==0:\n",
    "            return \"None\"\n",
    "        else:\n",
    "            l=[]\n",
    "            for i in self.citylist:\n",
    "                l.append(i.pinC)\n",
    "            minm=min(l)\n",
    "            return minm\n",
    "    def SortcitybyPop(self):\n",
    "         if len(self.citylist)==0:\n",
    "            return \"None\"\n",
    "         else:\n",
    "            self.citylist.sort(key=lambda x:x.popl)\n",
    "            return self.citylist\n",
    "        \n",
    "        \n",
    "        \n"
   ]
  },
  {
   "cell_type": "code",
   "execution_count": null,
   "id": "ff4493a5",
   "metadata": {
    "scrolled": true
   },
   "outputs": [],
   "source": [
    "if __name__=='__main__':\n",
    "    l=[]\n",
    "    n=int(input(\"Enter no.\"))\n",
    "    for i in range(n):\n",
    "        p=int(input())\n",
    "        name=input()\n",
    "        popl=int(input())\n",
    "        area=int(input())\n",
    "        a=City(p,name,popl,area)\n",
    "        l.append(a)\n",
    "    disname=input(\"Dis name: \")\n",
    "    b=District(disname,l)\n",
    "    b1=b.findMinCity()\n",
    "    b2=b.SortcitybyPop()\n",
    "    print(b1)\n",
    "    for i in b2:\n",
    "        print(i.name,i.popl)\n",
    "    "
   ]
  },
  {
   "cell_type": "code",
   "execution_count": null,
   "id": "5154cc94",
   "metadata": {},
   "outputs": [],
   "source": []
  },
  {
   "cell_type": "code",
   "execution_count": null,
   "id": "eb7d2bd4",
   "metadata": {},
   "outputs": [],
   "source": []
  }
 ],
 "metadata": {
  "kernelspec": {
   "display_name": "Python 3",
   "language": "python",
   "name": "python3"
  },
  "language_info": {
   "codemirror_mode": {
    "name": "ipython",
    "version": 3
   },
   "file_extension": ".py",
   "mimetype": "text/x-python",
   "name": "python",
   "nbconvert_exporter": "python",
   "pygments_lexer": "ipython3",
   "version": "3.8.8"
  }
 },
 "nbformat": 4,
 "nbformat_minor": 5
}
