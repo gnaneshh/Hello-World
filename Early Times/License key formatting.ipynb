{
 "cells": [
  {
   "cell_type": "code",
   "execution_count": 27,
   "id": "98d02564",
   "metadata": {},
   "outputs": [],
   "source": [
    "s = \"2-5g-3-J\"\n",
    "k = 2\n",
    "s=s.upper()\n",
    "dash=s.count('-')\n",
    "nletter=len(s)-dash\n",
    "parts=nletter//k\n",
    "rem=nletter%k\n",
    "res=\"\"\n"
   ]
  },
  {
   "cell_type": "code",
   "execution_count": 30,
   "id": "ddf49fd2",
   "metadata": {},
   "outputs": [
    {
     "name": "stdout",
     "output_type": "stream",
     "text": [
      "2-5G-3J-\n"
     ]
    }
   ],
   "source": [
    "string=\"\"\n",
    "for i in s:\n",
    "    if i!=\"-\":\n",
    "        string+=i\n",
    "res=string[0:rem]\n",
    "if len(res)!=0:\n",
    "    res+=\"-\"\n",
    "for i in range(rem,len(string)):\n",
    "    res+=string[i]\n",
    "    if i>0 and i<len(string)+dash-2 and i%k==0:\n",
    "        res+='-'\n",
    "    \n",
    "print(res)\n",
    "\n",
    "\n"
   ]
  },
  {
   "cell_type": "code",
   "execution_count": null,
   "id": "b78394ab",
   "metadata": {},
   "outputs": [],
   "source": []
  },
  {
   "cell_type": "code",
   "execution_count": 33,
   "id": "21543b2e",
   "metadata": {},
   "outputs": [
    {
     "name": "stdout",
     "output_type": "stream",
     "text": [
      "a a a a bbbc c\n",
      "bbbc\n"
     ]
    }
   ],
   "source": [
    "        paragraph=\"a, a, a, a, b,b,b,c, c\"\n",
    "        banned=[\"a\"]\n",
    "        sym=['!','?',\"'\",\";\",\",\",\".\"]\n",
    "        string=\"\"\n",
    "        for i in paragraph:\n",
    "            if i not in sym:\n",
    "                string+=i\n",
    "        string=string.lower()\n",
    "        print(string)\n",
    "        lst=string.split()\n",
    "        a={}\n",
    "        for i in lst:\n",
    "            if i not in a.keys():\n",
    "                a[i]=1\n",
    "            else:\n",
    "                a[i]+=1\n",
    "        for i in banned:\n",
    "            i=i.lower()\n",
    "                \n",
    "        l=list(a.items())\n",
    "        l.sort(key=lambda x:x[1],reverse=True)\n",
    "        for i in l:\n",
    "            if i[0] not in banned:\n",
    "                print(i[0])\n",
    "                break\n",
    "                \n",
    "        \n",
    "      "
   ]
  },
  {
   "cell_type": "code",
   "execution_count": null,
   "id": "6988c21f",
   "metadata": {},
   "outputs": [],
   "source": []
  }
 ],
 "metadata": {
  "kernelspec": {
   "display_name": "Python 3",
   "language": "python",
   "name": "python3"
  },
  "language_info": {
   "codemirror_mode": {
    "name": "ipython",
    "version": 3
   },
   "file_extension": ".py",
   "mimetype": "text/x-python",
   "name": "python",
   "nbconvert_exporter": "python",
   "pygments_lexer": "ipython3",
   "version": "3.8.8"
  }
 },
 "nbformat": 4,
 "nbformat_minor": 5
}
