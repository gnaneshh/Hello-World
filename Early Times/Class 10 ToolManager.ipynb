{
 "cells": [
  {
   "cell_type": "code",
   "execution_count": null,
   "id": "f0f78375",
   "metadata": {},
   "outputs": [],
   "source": [
    "class Tool:\n",
    "    def __init__(self,ID,Type,times,date):\n",
    "        self.ID=ID\n",
    "        self.Type=Type\n",
    "        self.times=times\n",
    "        self.date=date"
   ]
  },
  {
   "cell_type": "code",
   "execution_count": null,
   "id": "14cd8b12",
   "metadata": {},
   "outputs": [],
   "source": [
    "class ToolManager:\n",
    "    def assignTool(self,tlist,ttype,tdate):\n",
    "        tlist.sort(key=lambda x:x.times)\n",
    "        month=tdate.split('/')\n",
    "        for i in tlist:\n",
    "            if i.Type==ttype:\n",
    "                valid=i.date.split('/')\n",
    "                if int(valid[0])<=int(month[0]) and abs(int(valid[1])-int(month[1]))>=2:\n",
    "                    return i\n",
    "        return None\n",
    "    def getToolsByType(self,tlist):\n",
    "        a={}\n",
    "        for i in tlist:\n",
    "            if i.Type in a.keys():\n",
    "                a[i.Type]+=1\n",
    "            else:\n",
    "                a[i.Type]=1\n",
    "        return a\n",
    "            "
   ]
  },
  {
   "cell_type": "code",
   "execution_count": null,
   "id": "8c620a00",
   "metadata": {},
   "outputs": [],
   "source": [
    "if __name__==\"__main__\":\n",
    "    lst=[]\n",
    "    n=int(input())\n",
    "    for i in range(n):\n",
    "        a=int(input())\n",
    "        b=input()\n",
    "        c=int(input())\n",
    "        d=input()\n",
    "        obj=Tool(a,b,c,d)\n",
    "        lst.append(obj)\n",
    "    ttype=input(\"Enter type to search:\")\n",
    "    tdate=input(\"Enter date:\")\n",
    "    vbj=ToolManager()\n",
    "    ans=vbj.assignTool(lst,ttype,tdate)\n",
    "    ans1=vbj.getToolsByType(lst)\n",
    "    if ans:\n",
    "        print(ans.ID,ans.Type,ans.times)\n",
    "    else:\n",
    "        print(\"No tool found\")\n",
    "    for i in ans1:\n",
    "        print(i,ans[i])\n",
    "    \n",
    "    "
   ]
  },
  {
   "cell_type": "code",
   "execution_count": null,
   "id": "8798d733",
   "metadata": {},
   "outputs": [],
   "source": [
    "s=\"01/05/2000\"\n",
    "k=s.split('/')\n",
    "print(k)"
   ]
  },
  {
   "cell_type": "code",
   "execution_count": null,
   "id": "2a044ee7",
   "metadata": {},
   "outputs": [],
   "source": [
    "d={\"a\":1,\"b\":2,\"d\":3,\"y\":4}\n",
    "for i in d:\n",
    "    print(i,d[i])"
   ]
  },
  {
   "cell_type": "code",
   "execution_count": null,
   "id": "fcdc350e",
   "metadata": {},
   "outputs": [],
   "source": [
    "a=[\"sorted\",\"vaccine\"]\n",
    "for i in a:\n",
    "    b=\"\".join(sorted(i))\n",
    "    print(b)"
   ]
  },
  {
   "cell_type": "code",
   "execution_count": 2,
   "id": "73e5861f",
   "metadata": {},
   "outputs": [
    {
     "name": "stdout",
     "output_type": "stream",
     "text": [
      "[1, 2, 3, 4, 5, 6, 8]\n"
     ]
    }
   ],
   "source": [
    "a=[1,2,3,4]\n",
    "b=[5,6,7,8]\n",
    "a.extend(b)\n",
    "a.pop(6)\n",
    "print(a)"
   ]
  },
  {
   "cell_type": "code",
   "execution_count": 3,
   "id": "9c465b30",
   "metadata": {},
   "outputs": [
    {
     "name": "stdout",
     "output_type": "stream",
     "text": [
      "[45, 2, 3]\n"
     ]
    }
   ],
   "source": [
    "def x(a):\n",
    "    a[0]=45\n",
    "a=[1,2,3]\n",
    "x(a)\n",
    "print(a)"
   ]
  },
  {
   "cell_type": "code",
   "execution_count": 6,
   "id": "efad6c7c",
   "metadata": {},
   "outputs": [
    {
     "name": "stdout",
     "output_type": "stream",
     "text": [
      "Counter({1: 3, 2: 3, 4: 3, 3: 2, 5: 2, 6: 1})\n",
      "[(1, 3), (2, 3), (3, 2), (4, 3), (5, 2), (6, 1)]\n"
     ]
    }
   ],
   "source": [
    "from collections import Counter\n",
    "a=[1,2,3,4,1,1,2,2,3,4,4,5,5,6]\n",
    "y=Counter(a)\n",
    "print(y)\n",
    "y=list(y.items())\n",
    "print(y)"
   ]
  },
  {
   "cell_type": "code",
   "execution_count": null,
   "id": "9ec0b552",
   "metadata": {},
   "outputs": [],
   "source": [
    "l=\"\"\n",
    "while len(l)<=3:\n",
    "    if len(l)==0 or l[len(l-1)]==0:\n",
    "        l+=\"0\"\n",
    "        "
   ]
  }
 ],
 "metadata": {
  "kernelspec": {
   "display_name": "Python 3",
   "language": "python",
   "name": "python3"
  },
  "language_info": {
   "codemirror_mode": {
    "name": "ipython",
    "version": 3
   },
   "file_extension": ".py",
   "mimetype": "text/x-python",
   "name": "python",
   "nbconvert_exporter": "python",
   "pygments_lexer": "ipython3",
   "version": "3.8.8"
  }
 },
 "nbformat": 4,
 "nbformat_minor": 5
}
