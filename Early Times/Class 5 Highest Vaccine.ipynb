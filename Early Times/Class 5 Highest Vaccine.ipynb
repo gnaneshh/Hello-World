{
 "cells": [
  {
   "cell_type": "code",
   "execution_count": 1,
   "id": "7f2d376a",
   "metadata": {},
   "outputs": [],
   "source": [
    "class Citizen:\n",
    "    def __init__(self,cID,name,age,prof,isWar,city):\n",
    "        self.cID=cID\n",
    "        self.name=name\n",
    "        self.age=age\n",
    "        self.prof=prof\n",
    "        self.isWar=isWar\n",
    "        self.city=city"
   ]
  },
  {
   "cell_type": "code",
   "execution_count": 2,
   "id": "711ba37f",
   "metadata": {},
   "outputs": [
    {
     "ename": "SyntaxError",
     "evalue": "invalid syntax (<ipython-input-2-8b5dffc7e9ba>, line 22)",
     "output_type": "error",
     "traceback": [
      "\u001b[1;36m  File \u001b[1;32m\"<ipython-input-2-8b5dffc7e9ba>\"\u001b[1;36m, line \u001b[1;32m22\u001b[0m\n\u001b[1;33m    def CityWiseReq(self,lst):\u001b[0m\n\u001b[1;37m    ^\u001b[0m\n\u001b[1;31mSyntaxError\u001b[0m\u001b[1;31m:\u001b[0m invalid syntax\n"
     ]
    }
   ],
   "source": [
    "class HealthCenter:\n",
    "    def getHighestCity(self,lst):\n",
    "            a,b={},{}   \n",
    "            for i in lst:\n",
    "                if i.isWar.lower()==\"true\":\n",
    "                    if i.city in a:\n",
    "                        a[i.city]+=1\n",
    "                    else:\n",
    "                        a[i.city]=1\n",
    "                if i.age>=60:\n",
    "                    if i.city in b:\n",
    "                        b[i.city]+=1\n",
    "                    else:\n",
    "                        b[i.city]=1\n",
    "            l1=list(a.items())\n",
    "            l1.sort(key=lambda x: x[1],reverse=True)\n",
    "            l2=list(b.items())\n",
    "            l2.sort(key=lambda x: x[1],reverse=True)\n",
    "            if len(l1)>0:\n",
    "                print(str(l1[0][0]+\" : \"+str(l1[0][1]))\n",
    "        \n",
    "    def CityWiseReq(self,lst):\n",
    "        a,b={},{}\n",
    "        for i in lst:\n",
    "            if i.isWar.lower()==\"true\":\n",
    "                if i.city in a:\n",
    "                    a[i.city]+=1\n",
    "                else:\n",
    "                    a[i.city]=1\n",
    "            if i.age>=60:\n",
    "                    if i.city in b:\n",
    "                        b[i.city]+=1\n",
    "                    else:\n",
    "                        b[i.city]=1\n",
    "            print(a.items())\n",
    "            print(b.items())\n",
    "                    "
   ]
  },
  {
   "cell_type": "raw",
   "id": "cc62444a",
   "metadata": {},
   "source": [
    "if __name__==\"__main__\":\n",
    "    p=[]\n",
    "    n=int(input(\"Enter no. of citizens: \"))\n",
    "    for i in range(n):\n",
    "        a=int(input(\"Enter ID: \"))\n",
    "        b=str(input(\"Enter name: \"))\n",
    "        c=int(input(\"Enter age: \"))\n",
    "        d=str(input(\"Enter prof: \"))\n",
    "        e=str(input(\"Is covid warrior: \"))\n",
    "        f=str(input(\"Enter city: \"))\n",
    "        obj=Citizen(a,b,c,d,e,f)\n",
    "        p.append(obj)\n",
    "    vbj=HealthCenter()\n",
    "    vbj.getHighestCity(p)\n",
    "    vbj.CityWiseReq(p)\n",
    "    "
   ]
  },
  {
   "cell_type": "code",
   "execution_count": null,
   "id": "d4d867d9",
   "metadata": {},
   "outputs": [],
   "source": []
  },
  {
   "cell_type": "code",
   "execution_count": null,
   "id": "8c5f98ba",
   "metadata": {},
   "outputs": [],
   "source": []
  }
 ],
 "metadata": {
  "kernelspec": {
   "display_name": "Python 3",
   "language": "python",
   "name": "python3"
  },
  "language_info": {
   "codemirror_mode": {
    "name": "ipython",
    "version": 3
   },
   "file_extension": ".py",
   "mimetype": "text/x-python",
   "name": "python",
   "nbconvert_exporter": "python",
   "pygments_lexer": "ipython3",
   "version": "3.8.8"
  }
 },
 "nbformat": 4,
 "nbformat_minor": 5
}
