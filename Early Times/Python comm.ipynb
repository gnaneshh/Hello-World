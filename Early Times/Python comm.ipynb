{
 "cells": [
  {
   "cell_type": "code",
   "execution_count": 11,
   "id": "03ea8a0e",
   "metadata": {},
   "outputs": [],
   "source": [
    "class Item:\n",
    "    def __init__(self,iname,itype,uprice):\n",
    "        self.iname=iname\n",
    "        self.itype=itype\n",
    "        self.uprice=uprice\n",
    "        \n",
    "        "
   ]
  },
  {
   "cell_type": "code",
   "execution_count": 14,
   "id": "7d7f8bc7",
   "metadata": {},
   "outputs": [],
   "source": [
    "class Store:\n",
    "    def __init__(self,itemdict):\n",
    "        self.itemdict=itemdict\n",
    "    def buyitem(self,strname,iquant):\n",
    "        c=0\n",
    "        for key,value in self.itemdict.items():\n",
    "            if key.iname==strname:\n",
    "                if value==0:\n",
    "                    return None\n",
    "                elif iquant>value:\n",
    "                    bill=key.uprice*value\n",
    "                    value=0\n",
    "                    return bill\n",
    "                elif iquant<=value:\n",
    "                    bill=key.uprice*iquant\n",
    "                    value=value-iquant\n",
    "                    return bill\n",
    "            else:\n",
    "                c+=1\n",
    "        if c==len(self.itemdict):\n",
    "            return None\n",
    "    def printfs(self):\n",
    "        for i,j in self.itemdict.items():\n",
    "            print(i.iname,j)\n",
    "    "
   ]
  },
  {
   "cell_type": "code",
   "execution_count": 15,
   "id": "01bdbb04",
   "metadata": {},
   "outputs": [
    {
     "name": "stdout",
     "output_type": "stream",
     "text": [
      "1\n",
      "bb\n",
      "jxajk\n",
      "200\n",
      "Enter in hand Quantity: 4\n",
      "Enter no of quanats: 1\n",
      "Enter itemname to be searched: bb\n",
      "Enter no. of items: 3\n",
      "Stock in hand\n",
      "Bill: 600\n",
      "bb 4\n"
     ]
    }
   ],
   "source": [
    "n=int(input())\n",
    "l={}\n",
    "for i in range (n):\n",
    "    name=input()\n",
    "    types=input()\n",
    "    unprice=int(input())\n",
    "    a=Item(name,types,unprice)\n",
    "    k=int(input(\"Enter in hand Quantity: \"))\n",
    "    l[a]=k\n",
    "b=Store(l)\n",
    "l1={}\n",
    "k1=int(input(\"Enter no of quanats: \"))\n",
    "for i in range(k1):\n",
    "    itemname1=input(\"Enter itemname to be searched: \")\n",
    "    quant=int(input(\"Enter no. of items: \"))\n",
    "    l1[itemname1]=quant\n",
    "for key,value in l1.items():\n",
    "    tot=b.buyitem(key,value)\n",
    "    if tot==None:\n",
    "        print(key, \"is not available\")\n",
    "    else:\n",
    "        print(\"Stock in hand\")\n",
    "        print(\"Bill:\",tot)\n",
    "        b.printfs()\n",
    "    "
   ]
  },
  {
   "cell_type": "code",
   "execution_count": null,
   "id": "6a109ce0",
   "metadata": {},
   "outputs": [],
   "source": []
  }
 ],
 "metadata": {
  "kernelspec": {
   "display_name": "Python 3",
   "language": "python",
   "name": "python3"
  },
  "language_info": {
   "codemirror_mode": {
    "name": "ipython",
    "version": 3
   },
   "file_extension": ".py",
   "mimetype": "text/x-python",
   "name": "python",
   "nbconvert_exporter": "python",
   "pygments_lexer": "ipython3",
   "version": "3.8.8"
  }
 },
 "nbformat": 4,
 "nbformat_minor": 5
}
