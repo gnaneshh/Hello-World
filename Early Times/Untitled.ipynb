{
 "cells": [
  {
   "cell_type": "code",
   "execution_count": 5,
   "id": "c7fabf17",
   "metadata": {},
   "outputs": [
    {
     "name": "stdout",
     "output_type": "stream",
     "text": [
      "9\n"
     ]
    }
   ],
   "source": [
    "#a=[100,180,260,310,40,535,695]\n",
    "a=[ 7, 1, 5, 3, 6, 4 ]\n",
    "maximum=a[0]\n",
    "flag=a[0]\n",
    "tot=0\n",
    "for i in range(1,len(a)):\n",
    "    if a[i]>a[i-1]:\n",
    "        maximum=a[i]\n",
    "    else:\n",
    "        tot+=(maximum-flag)\n",
    "        flag=a[i]\n",
    "if maximum>flag:\n",
    "    tot+=maximum-flag\n",
    "    \n",
    "print(tot)"
   ]
  },
  {
   "cell_type": "code",
   "execution_count": null,
   "id": "d00cf699",
   "metadata": {},
   "outputs": [],
   "source": []
  }
 ],
 "metadata": {
  "kernelspec": {
   "display_name": "Python 3",
   "language": "python",
   "name": "python3"
  },
  "language_info": {
   "codemirror_mode": {
    "name": "ipython",
    "version": 3
   },
   "file_extension": ".py",
   "mimetype": "text/x-python",
   "name": "python",
   "nbconvert_exporter": "python",
   "pygments_lexer": "ipython3",
   "version": "3.8.8"
  }
 },
 "nbformat": 4,
 "nbformat_minor": 5
}
